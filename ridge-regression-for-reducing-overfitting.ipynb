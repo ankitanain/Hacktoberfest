{
 "cells": [
  {
   "cell_type": "code",
   "execution_count": 1,
   "id": "907384df",
   "metadata": {
    "_cell_guid": "b1076dfc-b9ad-4769-8c92-a6c4dae69d19",
    "_uuid": "8f2839f25d086af736a60e9eeb907d3b93b6e0e5",
    "execution": {
     "iopub.execute_input": "2023-10-25T10:42:05.856384Z",
     "iopub.status.busy": "2023-10-25T10:42:05.856010Z",
     "iopub.status.idle": "2023-10-25T10:42:06.232426Z",
     "shell.execute_reply": "2023-10-25T10:42:06.231597Z"
    },
    "papermill": {
     "duration": 0.386571,
     "end_time": "2023-10-25T10:42:06.234834",
     "exception": false,
     "start_time": "2023-10-25T10:42:05.848263",
     "status": "completed"
    },
    "tags": []
   },
   "outputs": [],
   "source": [
    "# This Python 3 environment comes with many helpful analytics libraries installed\n",
    "# It is defined by the kaggle/python Docker image: https://github.com/kaggle/docker-python\n",
    "# For example, here's several helpful packages to load\n",
    "\n",
    "import numpy as np # linear algebra\n",
    "import pandas as pd # data processing, CSV file I/O (e.g. pd.read_csv)\n",
    "\n",
    "# Input data files are available in the read-only \"../input/\" directory\n",
    "# For example, running this (by clicking run or pressing Shift+Enter) will list all files under the input directory\n",
    "\n",
    "import os\n",
    "for dirname, _, filenames in os.walk('/kaggle/input'):\n",
    "    for filename in filenames:\n",
    "        print(os.path.join(dirname, filename))\n",
    "\n",
    "# You can write up to 20GB to the current directory (/kaggle/working/) that gets preserved as output when you create a version using \"Save & Run All\" \n",
    "# You can also write temporary files to /kaggle/temp/, but they won't be saved outside of the current session"
   ]
  },
  {
   "cell_type": "markdown",
   "id": "8563457a",
   "metadata": {
    "papermill": {
     "duration": 0.00536,
     "end_time": "2023-10-25T10:42:06.246064",
     "exception": false,
     "start_time": "2023-10-25T10:42:06.240704",
     "status": "completed"
    },
    "tags": []
   },
   "source": [
    "# Importing the essential libraries"
   ]
  },
  {
   "cell_type": "code",
   "execution_count": 2,
   "id": "200ec7b4",
   "metadata": {
    "execution": {
     "iopub.execute_input": "2023-10-25T10:42:06.260053Z",
     "iopub.status.busy": "2023-10-25T10:42:06.258885Z",
     "iopub.status.idle": "2023-10-25T10:42:06.264139Z",
     "shell.execute_reply": "2023-10-25T10:42:06.263071Z"
    },
    "papermill": {
     "duration": 0.014943,
     "end_time": "2023-10-25T10:42:06.266569",
     "exception": false,
     "start_time": "2023-10-25T10:42:06.251626",
     "status": "completed"
    },
    "tags": []
   },
   "outputs": [],
   "source": [
    "import pandas as pd\n",
    "import numpy as np\n",
    "import matplotlib.pyplot as plt"
   ]
  },
  {
   "cell_type": "markdown",
   "id": "5be020a6",
   "metadata": {
    "papermill": {
     "duration": 0.005701,
     "end_time": "2023-10-25T10:42:06.277999",
     "exception": false,
     "start_time": "2023-10-25T10:42:06.272298",
     "status": "completed"
    },
    "tags": []
   },
   "source": [
    "# Loading the inbuilt diabetes dataset"
   ]
  },
  {
   "cell_type": "code",
   "execution_count": 3,
   "id": "776c52fa",
   "metadata": {
    "execution": {
     "iopub.execute_input": "2023-10-25T10:42:06.291297Z",
     "iopub.status.busy": "2023-10-25T10:42:06.290889Z",
     "iopub.status.idle": "2023-10-25T10:42:07.454703Z",
     "shell.execute_reply": "2023-10-25T10:42:07.453585Z"
    },
    "papermill": {
     "duration": 1.173718,
     "end_time": "2023-10-25T10:42:07.457350",
     "exception": false,
     "start_time": "2023-10-25T10:42:06.283632",
     "status": "completed"
    },
    "tags": []
   },
   "outputs": [],
   "source": [
    "from sklearn.datasets import load_diabetes \n",
    "\n",
    "data = load_diabetes()"
   ]
  },
  {
   "cell_type": "code",
   "execution_count": 4,
   "id": "b2682383",
   "metadata": {
    "execution": {
     "iopub.execute_input": "2023-10-25T10:42:07.470256Z",
     "iopub.status.busy": "2023-10-25T10:42:07.469572Z",
     "iopub.status.idle": "2023-10-25T10:42:07.475383Z",
     "shell.execute_reply": "2023-10-25T10:42:07.474401Z"
    },
    "papermill": {
     "duration": 0.014927,
     "end_time": "2023-10-25T10:42:07.477913",
     "exception": false,
     "start_time": "2023-10-25T10:42:07.462986",
     "status": "completed"
    },
    "tags": []
   },
   "outputs": [
    {
     "name": "stdout",
     "output_type": "stream",
     "text": [
      ".. _diabetes_dataset:\n",
      "\n",
      "Diabetes dataset\n",
      "----------------\n",
      "\n",
      "Ten baseline variables, age, sex, body mass index, average blood\n",
      "pressure, and six blood serum measurements were obtained for each of n =\n",
      "442 diabetes patients, as well as the response of interest, a\n",
      "quantitative measure of disease progression one year after baseline.\n",
      "\n",
      "**Data Set Characteristics:**\n",
      "\n",
      "  :Number of Instances: 442\n",
      "\n",
      "  :Number of Attributes: First 10 columns are numeric predictive values\n",
      "\n",
      "  :Target: Column 11 is a quantitative measure of disease progression one year after baseline\n",
      "\n",
      "  :Attribute Information:\n",
      "      - age     age in years\n",
      "      - sex\n",
      "      - bmi     body mass index\n",
      "      - bp      average blood pressure\n",
      "      - s1      tc, total serum cholesterol\n",
      "      - s2      ldl, low-density lipoproteins\n",
      "      - s3      hdl, high-density lipoproteins\n",
      "      - s4      tch, total cholesterol / HDL\n",
      "      - s5      ltg, possibly log of serum triglycerides level\n",
      "      - s6      glu, blood sugar level\n",
      "\n",
      "Note: Each of these 10 feature variables have been mean centered and scaled by the standard deviation times the square root of `n_samples` (i.e. the sum of squares of each column totals 1).\n",
      "\n",
      "Source URL:\n",
      "https://www4.stat.ncsu.edu/~boos/var.select/diabetes.html\n",
      "\n",
      "For more information see:\n",
      "Bradley Efron, Trevor Hastie, Iain Johnstone and Robert Tibshirani (2004) \"Least Angle Regression,\" Annals of Statistics (with discussion), 407-499.\n",
      "(https://web.stanford.edu/~hastie/Papers/LARS/LeastAngle_2002.pdf)\n",
      "\n"
     ]
    }
   ],
   "source": [
    "print(data.DESCR)"
   ]
  },
  {
   "cell_type": "code",
   "execution_count": 5,
   "id": "9cc7e84b",
   "metadata": {
    "execution": {
     "iopub.execute_input": "2023-10-25T10:42:07.491251Z",
     "iopub.status.busy": "2023-10-25T10:42:07.490405Z",
     "iopub.status.idle": "2023-10-25T10:42:07.495062Z",
     "shell.execute_reply": "2023-10-25T10:42:07.494095Z"
    },
    "papermill": {
     "duration": 0.013271,
     "end_time": "2023-10-25T10:42:07.497012",
     "exception": false,
     "start_time": "2023-10-25T10:42:07.483741",
     "status": "completed"
    },
    "tags": []
   },
   "outputs": [],
   "source": [
    "# Choose your input output column\n",
    "\n",
    "X = data.data\n",
    "y = data.target"
   ]
  },
  {
   "cell_type": "markdown",
   "id": "12d127aa",
   "metadata": {
    "papermill": {
     "duration": 0.005334,
     "end_time": "2023-10-25T10:42:07.507952",
     "exception": false,
     "start_time": "2023-10-25T10:42:07.502618",
     "status": "completed"
    },
    "tags": []
   },
   "source": [
    "# First let's apply linear regresssion to the dataset"
   ]
  },
  {
   "cell_type": "code",
   "execution_count": 6,
   "id": "2fb6bb3d",
   "metadata": {
    "execution": {
     "iopub.execute_input": "2023-10-25T10:42:07.521060Z",
     "iopub.status.busy": "2023-10-25T10:42:07.520417Z",
     "iopub.status.idle": "2023-10-25T10:42:07.611876Z",
     "shell.execute_reply": "2023-10-25T10:42:07.610438Z"
    },
    "papermill": {
     "duration": 0.101086,
     "end_time": "2023-10-25T10:42:07.614554",
     "exception": false,
     "start_time": "2023-10-25T10:42:07.513468",
     "status": "completed"
    },
    "tags": []
   },
   "outputs": [],
   "source": [
    "from sklearn.model_selection import train_test_split\n",
    "X_train,X_test,y_train,y_test=train_test_split(X,y,test_size=0.2,random_state=45)\n"
   ]
  },
  {
   "cell_type": "code",
   "execution_count": 7,
   "id": "fe656482",
   "metadata": {
    "execution": {
     "iopub.execute_input": "2023-10-25T10:42:07.628409Z",
     "iopub.status.busy": "2023-10-25T10:42:07.627810Z",
     "iopub.status.idle": "2023-10-25T10:42:07.798776Z",
     "shell.execute_reply": "2023-10-25T10:42:07.797709Z"
    },
    "papermill": {
     "duration": 0.180944,
     "end_time": "2023-10-25T10:42:07.801317",
     "exception": false,
     "start_time": "2023-10-25T10:42:07.620373",
     "status": "completed"
    },
    "tags": []
   },
   "outputs": [],
   "source": [
    "from sklearn.linear_model import LinearRegression\n",
    "L=LinearRegression()"
   ]
  },
  {
   "cell_type": "code",
   "execution_count": 8,
   "id": "4c268e78",
   "metadata": {
    "execution": {
     "iopub.execute_input": "2023-10-25T10:42:07.814448Z",
     "iopub.status.busy": "2023-10-25T10:42:07.814076Z",
     "iopub.status.idle": "2023-10-25T10:42:07.855227Z",
     "shell.execute_reply": "2023-10-25T10:42:07.854217Z"
    },
    "papermill": {
     "duration": 0.050223,
     "end_time": "2023-10-25T10:42:07.857452",
     "exception": false,
     "start_time": "2023-10-25T10:42:07.807229",
     "status": "completed"
    },
    "tags": []
   },
   "outputs": [
    {
     "data": {
      "text/html": [
       "<style>#sk-container-id-1 {color: black;background-color: white;}#sk-container-id-1 pre{padding: 0;}#sk-container-id-1 div.sk-toggleable {background-color: white;}#sk-container-id-1 label.sk-toggleable__label {cursor: pointer;display: block;width: 100%;margin-bottom: 0;padding: 0.3em;box-sizing: border-box;text-align: center;}#sk-container-id-1 label.sk-toggleable__label-arrow:before {content: \"▸\";float: left;margin-right: 0.25em;color: #696969;}#sk-container-id-1 label.sk-toggleable__label-arrow:hover:before {color: black;}#sk-container-id-1 div.sk-estimator:hover label.sk-toggleable__label-arrow:before {color: black;}#sk-container-id-1 div.sk-toggleable__content {max-height: 0;max-width: 0;overflow: hidden;text-align: left;background-color: #f0f8ff;}#sk-container-id-1 div.sk-toggleable__content pre {margin: 0.2em;color: black;border-radius: 0.25em;background-color: #f0f8ff;}#sk-container-id-1 input.sk-toggleable__control:checked~div.sk-toggleable__content {max-height: 200px;max-width: 100%;overflow: auto;}#sk-container-id-1 input.sk-toggleable__control:checked~label.sk-toggleable__label-arrow:before {content: \"▾\";}#sk-container-id-1 div.sk-estimator input.sk-toggleable__control:checked~label.sk-toggleable__label {background-color: #d4ebff;}#sk-container-id-1 div.sk-label input.sk-toggleable__control:checked~label.sk-toggleable__label {background-color: #d4ebff;}#sk-container-id-1 input.sk-hidden--visually {border: 0;clip: rect(1px 1px 1px 1px);clip: rect(1px, 1px, 1px, 1px);height: 1px;margin: -1px;overflow: hidden;padding: 0;position: absolute;width: 1px;}#sk-container-id-1 div.sk-estimator {font-family: monospace;background-color: #f0f8ff;border: 1px dotted black;border-radius: 0.25em;box-sizing: border-box;margin-bottom: 0.5em;}#sk-container-id-1 div.sk-estimator:hover {background-color: #d4ebff;}#sk-container-id-1 div.sk-parallel-item::after {content: \"\";width: 100%;border-bottom: 1px solid gray;flex-grow: 1;}#sk-container-id-1 div.sk-label:hover label.sk-toggleable__label {background-color: #d4ebff;}#sk-container-id-1 div.sk-serial::before {content: \"\";position: absolute;border-left: 1px solid gray;box-sizing: border-box;top: 0;bottom: 0;left: 50%;z-index: 0;}#sk-container-id-1 div.sk-serial {display: flex;flex-direction: column;align-items: center;background-color: white;padding-right: 0.2em;padding-left: 0.2em;position: relative;}#sk-container-id-1 div.sk-item {position: relative;z-index: 1;}#sk-container-id-1 div.sk-parallel {display: flex;align-items: stretch;justify-content: center;background-color: white;position: relative;}#sk-container-id-1 div.sk-item::before, #sk-container-id-1 div.sk-parallel-item::before {content: \"\";position: absolute;border-left: 1px solid gray;box-sizing: border-box;top: 0;bottom: 0;left: 50%;z-index: -1;}#sk-container-id-1 div.sk-parallel-item {display: flex;flex-direction: column;z-index: 1;position: relative;background-color: white;}#sk-container-id-1 div.sk-parallel-item:first-child::after {align-self: flex-end;width: 50%;}#sk-container-id-1 div.sk-parallel-item:last-child::after {align-self: flex-start;width: 50%;}#sk-container-id-1 div.sk-parallel-item:only-child::after {width: 0;}#sk-container-id-1 div.sk-dashed-wrapped {border: 1px dashed gray;margin: 0 0.4em 0.5em 0.4em;box-sizing: border-box;padding-bottom: 0.4em;background-color: white;}#sk-container-id-1 div.sk-label label {font-family: monospace;font-weight: bold;display: inline-block;line-height: 1.2em;}#sk-container-id-1 div.sk-label-container {text-align: center;}#sk-container-id-1 div.sk-container {/* jupyter's `normalize.less` sets `[hidden] { display: none; }` but bootstrap.min.css set `[hidden] { display: none !important; }` so we also need the `!important` here to be able to override the default hidden behavior on the sphinx rendered scikit-learn.org. See: https://github.com/scikit-learn/scikit-learn/issues/21755 */display: inline-block !important;position: relative;}#sk-container-id-1 div.sk-text-repr-fallback {display: none;}</style><div id=\"sk-container-id-1\" class=\"sk-top-container\"><div class=\"sk-text-repr-fallback\"><pre>LinearRegression()</pre><b>In a Jupyter environment, please rerun this cell to show the HTML representation or trust the notebook. <br />On GitHub, the HTML representation is unable to render, please try loading this page with nbviewer.org.</b></div><div class=\"sk-container\" hidden><div class=\"sk-item\"><div class=\"sk-estimator sk-toggleable\"><input class=\"sk-toggleable__control sk-hidden--visually\" id=\"sk-estimator-id-1\" type=\"checkbox\" checked><label for=\"sk-estimator-id-1\" class=\"sk-toggleable__label sk-toggleable__label-arrow\">LinearRegression</label><div class=\"sk-toggleable__content\"><pre>LinearRegression()</pre></div></div></div></div></div>"
      ],
      "text/plain": [
       "LinearRegression()"
      ]
     },
     "execution_count": 8,
     "metadata": {},
     "output_type": "execute_result"
    }
   ],
   "source": [
    "L.fit(X_train,y_train)\n"
   ]
  },
  {
   "cell_type": "code",
   "execution_count": 9,
   "id": "70b0b263",
   "metadata": {
    "execution": {
     "iopub.execute_input": "2023-10-25T10:42:07.871291Z",
     "iopub.status.busy": "2023-10-25T10:42:07.870899Z",
     "iopub.status.idle": "2023-10-25T10:42:07.876470Z",
     "shell.execute_reply": "2023-10-25T10:42:07.875486Z"
    },
    "papermill": {
     "duration": 0.015005,
     "end_time": "2023-10-25T10:42:07.878693",
     "exception": false,
     "start_time": "2023-10-25T10:42:07.863688",
     "status": "completed"
    },
    "tags": []
   },
   "outputs": [
    {
     "name": "stdout",
     "output_type": "stream",
     "text": [
      "[  23.45465406 -247.42747406  492.1087518   329.35876431 -970.79723039\n",
      "  573.54295519  182.42162368  255.92168168  794.21609282   89.32249214]\n",
      "152.13623331746496\n"
     ]
    }
   ],
   "source": [
    "print(L.coef_)\n",
    "print(L.intercept_)"
   ]
  },
  {
   "cell_type": "code",
   "execution_count": 10,
   "id": "39b58cf7",
   "metadata": {
    "execution": {
     "iopub.execute_input": "2023-10-25T10:42:07.892422Z",
     "iopub.status.busy": "2023-10-25T10:42:07.892047Z",
     "iopub.status.idle": "2023-10-25T10:42:07.897275Z",
     "shell.execute_reply": "2023-10-25T10:42:07.896294Z"
    },
    "papermill": {
     "duration": 0.014589,
     "end_time": "2023-10-25T10:42:07.899411",
     "exception": false,
     "start_time": "2023-10-25T10:42:07.884822",
     "status": "completed"
    },
    "tags": []
   },
   "outputs": [],
   "source": [
    "y_pred=L.predict(X_test)\n"
   ]
  },
  {
   "cell_type": "code",
   "execution_count": 11,
   "id": "5efb16d6",
   "metadata": {
    "execution": {
     "iopub.execute_input": "2023-10-25T10:42:07.913105Z",
     "iopub.status.busy": "2023-10-25T10:42:07.912705Z",
     "iopub.status.idle": "2023-10-25T10:42:07.919407Z",
     "shell.execute_reply": "2023-10-25T10:42:07.918570Z"
    },
    "papermill": {
     "duration": 0.016105,
     "end_time": "2023-10-25T10:42:07.921539",
     "exception": false,
     "start_time": "2023-10-25T10:42:07.905434",
     "status": "completed"
    },
    "tags": []
   },
   "outputs": [
    {
     "name": "stdout",
     "output_type": "stream",
     "text": [
      "R2 score 0.5188113124539249\n",
      "RMSE 48.72713760953253\n"
     ]
    }
   ],
   "source": [
    "from sklearn.metrics import r2_score,mean_squared_error\n",
    "\n",
    "print(\"R2 score\",r2_score(y_test,y_pred))\n",
    "print(\"RMSE\",np.sqrt(mean_squared_error(y_test,y_pred)))"
   ]
  },
  {
   "cell_type": "markdown",
   "id": "94067592",
   "metadata": {
    "papermill": {
     "duration": 0.00583,
     "end_time": "2023-10-25T10:42:07.933449",
     "exception": false,
     "start_time": "2023-10-25T10:42:07.927619",
     "status": "completed"
    },
    "tags": []
   },
   "source": [
    "# Now let's apply ridge regression and see what change we got "
   ]
  },
  {
   "cell_type": "code",
   "execution_count": 12,
   "id": "e52344d0",
   "metadata": {
    "execution": {
     "iopub.execute_input": "2023-10-25T10:42:07.947669Z",
     "iopub.status.busy": "2023-10-25T10:42:07.946631Z",
     "iopub.status.idle": "2023-10-25T10:42:07.951920Z",
     "shell.execute_reply": "2023-10-25T10:42:07.950821Z"
    },
    "papermill": {
     "duration": 0.01471,
     "end_time": "2023-10-25T10:42:07.954110",
     "exception": false,
     "start_time": "2023-10-25T10:42:07.939400",
     "status": "completed"
    },
    "tags": []
   },
   "outputs": [],
   "source": [
    "from sklearn.linear_model import Ridge\n",
    "R = Ridge(alpha = 0.001)"
   ]
  },
  {
   "cell_type": "code",
   "execution_count": 13,
   "id": "12a2c20c",
   "metadata": {
    "execution": {
     "iopub.execute_input": "2023-10-25T10:42:07.968178Z",
     "iopub.status.busy": "2023-10-25T10:42:07.967797Z",
     "iopub.status.idle": "2023-10-25T10:42:07.982685Z",
     "shell.execute_reply": "2023-10-25T10:42:07.981687Z"
    },
    "papermill": {
     "duration": 0.024384,
     "end_time": "2023-10-25T10:42:07.984867",
     "exception": false,
     "start_time": "2023-10-25T10:42:07.960483",
     "status": "completed"
    },
    "tags": []
   },
   "outputs": [
    {
     "data": {
      "text/html": [
       "<style>#sk-container-id-2 {color: black;background-color: white;}#sk-container-id-2 pre{padding: 0;}#sk-container-id-2 div.sk-toggleable {background-color: white;}#sk-container-id-2 label.sk-toggleable__label {cursor: pointer;display: block;width: 100%;margin-bottom: 0;padding: 0.3em;box-sizing: border-box;text-align: center;}#sk-container-id-2 label.sk-toggleable__label-arrow:before {content: \"▸\";float: left;margin-right: 0.25em;color: #696969;}#sk-container-id-2 label.sk-toggleable__label-arrow:hover:before {color: black;}#sk-container-id-2 div.sk-estimator:hover label.sk-toggleable__label-arrow:before {color: black;}#sk-container-id-2 div.sk-toggleable__content {max-height: 0;max-width: 0;overflow: hidden;text-align: left;background-color: #f0f8ff;}#sk-container-id-2 div.sk-toggleable__content pre {margin: 0.2em;color: black;border-radius: 0.25em;background-color: #f0f8ff;}#sk-container-id-2 input.sk-toggleable__control:checked~div.sk-toggleable__content {max-height: 200px;max-width: 100%;overflow: auto;}#sk-container-id-2 input.sk-toggleable__control:checked~label.sk-toggleable__label-arrow:before {content: \"▾\";}#sk-container-id-2 div.sk-estimator input.sk-toggleable__control:checked~label.sk-toggleable__label {background-color: #d4ebff;}#sk-container-id-2 div.sk-label input.sk-toggleable__control:checked~label.sk-toggleable__label {background-color: #d4ebff;}#sk-container-id-2 input.sk-hidden--visually {border: 0;clip: rect(1px 1px 1px 1px);clip: rect(1px, 1px, 1px, 1px);height: 1px;margin: -1px;overflow: hidden;padding: 0;position: absolute;width: 1px;}#sk-container-id-2 div.sk-estimator {font-family: monospace;background-color: #f0f8ff;border: 1px dotted black;border-radius: 0.25em;box-sizing: border-box;margin-bottom: 0.5em;}#sk-container-id-2 div.sk-estimator:hover {background-color: #d4ebff;}#sk-container-id-2 div.sk-parallel-item::after {content: \"\";width: 100%;border-bottom: 1px solid gray;flex-grow: 1;}#sk-container-id-2 div.sk-label:hover label.sk-toggleable__label {background-color: #d4ebff;}#sk-container-id-2 div.sk-serial::before {content: \"\";position: absolute;border-left: 1px solid gray;box-sizing: border-box;top: 0;bottom: 0;left: 50%;z-index: 0;}#sk-container-id-2 div.sk-serial {display: flex;flex-direction: column;align-items: center;background-color: white;padding-right: 0.2em;padding-left: 0.2em;position: relative;}#sk-container-id-2 div.sk-item {position: relative;z-index: 1;}#sk-container-id-2 div.sk-parallel {display: flex;align-items: stretch;justify-content: center;background-color: white;position: relative;}#sk-container-id-2 div.sk-item::before, #sk-container-id-2 div.sk-parallel-item::before {content: \"\";position: absolute;border-left: 1px solid gray;box-sizing: border-box;top: 0;bottom: 0;left: 50%;z-index: -1;}#sk-container-id-2 div.sk-parallel-item {display: flex;flex-direction: column;z-index: 1;position: relative;background-color: white;}#sk-container-id-2 div.sk-parallel-item:first-child::after {align-self: flex-end;width: 50%;}#sk-container-id-2 div.sk-parallel-item:last-child::after {align-self: flex-start;width: 50%;}#sk-container-id-2 div.sk-parallel-item:only-child::after {width: 0;}#sk-container-id-2 div.sk-dashed-wrapped {border: 1px dashed gray;margin: 0 0.4em 0.5em 0.4em;box-sizing: border-box;padding-bottom: 0.4em;background-color: white;}#sk-container-id-2 div.sk-label label {font-family: monospace;font-weight: bold;display: inline-block;line-height: 1.2em;}#sk-container-id-2 div.sk-label-container {text-align: center;}#sk-container-id-2 div.sk-container {/* jupyter's `normalize.less` sets `[hidden] { display: none; }` but bootstrap.min.css set `[hidden] { display: none !important; }` so we also need the `!important` here to be able to override the default hidden behavior on the sphinx rendered scikit-learn.org. See: https://github.com/scikit-learn/scikit-learn/issues/21755 */display: inline-block !important;position: relative;}#sk-container-id-2 div.sk-text-repr-fallback {display: none;}</style><div id=\"sk-container-id-2\" class=\"sk-top-container\"><div class=\"sk-text-repr-fallback\"><pre>Ridge(alpha=0.001)</pre><b>In a Jupyter environment, please rerun this cell to show the HTML representation or trust the notebook. <br />On GitHub, the HTML representation is unable to render, please try loading this page with nbviewer.org.</b></div><div class=\"sk-container\" hidden><div class=\"sk-item\"><div class=\"sk-estimator sk-toggleable\"><input class=\"sk-toggleable__control sk-hidden--visually\" id=\"sk-estimator-id-2\" type=\"checkbox\" checked><label for=\"sk-estimator-id-2\" class=\"sk-toggleable__label sk-toggleable__label-arrow\">Ridge</label><div class=\"sk-toggleable__content\"><pre>Ridge(alpha=0.001)</pre></div></div></div></div></div>"
      ],
      "text/plain": [
       "Ridge(alpha=0.001)"
      ]
     },
     "execution_count": 13,
     "metadata": {},
     "output_type": "execute_result"
    }
   ],
   "source": [
    "R.fit(X_train,y_train)"
   ]
  },
  {
   "cell_type": "code",
   "execution_count": 14,
   "id": "7eff10b7",
   "metadata": {
    "execution": {
     "iopub.execute_input": "2023-10-25T10:42:08.000156Z",
     "iopub.status.busy": "2023-10-25T10:42:07.999763Z",
     "iopub.status.idle": "2023-10-25T10:42:08.005386Z",
     "shell.execute_reply": "2023-10-25T10:42:08.004375Z"
    },
    "papermill": {
     "duration": 0.015625,
     "end_time": "2023-10-25T10:42:08.007637",
     "exception": false,
     "start_time": "2023-10-25T10:42:07.992012",
     "status": "completed"
    },
    "tags": []
   },
   "outputs": [
    {
     "name": "stdout",
     "output_type": "stream",
     "text": [
      "[  24.01614407 -246.40604384  493.5928598   329.08832995 -852.76773624\n",
      "  479.42466903  131.86682689  243.03291973  748.96464364   90.15508276]\n",
      "152.12463296924477\n"
     ]
    }
   ],
   "source": [
    "print(R.coef_)\n",
    "print(R.intercept_)"
   ]
  },
  {
   "cell_type": "code",
   "execution_count": 15,
   "id": "51910831",
   "metadata": {
    "execution": {
     "iopub.execute_input": "2023-10-25T10:42:08.022073Z",
     "iopub.status.busy": "2023-10-25T10:42:08.021664Z",
     "iopub.status.idle": "2023-10-25T10:42:08.026906Z",
     "shell.execute_reply": "2023-10-25T10:42:08.025857Z"
    },
    "papermill": {
     "duration": 0.014927,
     "end_time": "2023-10-25T10:42:08.029066",
     "exception": false,
     "start_time": "2023-10-25T10:42:08.014139",
     "status": "completed"
    },
    "tags": []
   },
   "outputs": [],
   "source": [
    "y_pred1=R.predict(X_test)\n"
   ]
  },
  {
   "cell_type": "code",
   "execution_count": 16,
   "id": "b4fab16d",
   "metadata": {
    "execution": {
     "iopub.execute_input": "2023-10-25T10:42:08.043438Z",
     "iopub.status.busy": "2023-10-25T10:42:08.043077Z",
     "iopub.status.idle": "2023-10-25T10:42:08.049068Z",
     "shell.execute_reply": "2023-10-25T10:42:08.048356Z"
    },
    "papermill": {
     "duration": 0.015752,
     "end_time": "2023-10-25T10:42:08.051326",
     "exception": false,
     "start_time": "2023-10-25T10:42:08.035574",
     "status": "completed"
    },
    "tags": []
   },
   "outputs": [
    {
     "name": "stdout",
     "output_type": "stream",
     "text": [
      "R2 score 0.5201448351821762\n",
      "RMSE 48.65957177859253\n"
     ]
    }
   ],
   "source": [
    "print(\"R2 score\",r2_score(y_test,y_pred1))\n",
    "print(\"RMSE\",np.sqrt(mean_squared_error(y_test,y_pred1)))"
   ]
  },
  {
   "cell_type": "code",
   "execution_count": 17,
   "id": "7ab29afe",
   "metadata": {
    "execution": {
     "iopub.execute_input": "2023-10-25T10:42:08.066561Z",
     "iopub.status.busy": "2023-10-25T10:42:08.066169Z",
     "iopub.status.idle": "2023-10-25T10:42:08.069987Z",
     "shell.execute_reply": "2023-10-25T10:42:08.069124Z"
    },
    "papermill": {
     "duration": 0.013634,
     "end_time": "2023-10-25T10:42:08.071800",
     "exception": false,
     "start_time": "2023-10-25T10:42:08.058166",
     "status": "completed"
    },
    "tags": []
   },
   "outputs": [],
   "source": [
    "# From above conclusion we got that both regression performed approximately the same \n",
    "\n",
    "# But ridge regression was more better than linear as R2 score of ridge is better "
   ]
  },
  {
   "cell_type": "markdown",
   "id": "a0bfdcc0",
   "metadata": {
    "papermill": {
     "duration": 0.006063,
     "end_time": "2023-10-25T10:42:08.084352",
     "exception": false,
     "start_time": "2023-10-25T10:42:08.078289",
     "status": "completed"
    },
    "tags": []
   },
   "source": [
    "# Now let's add some magic of visualization to the code"
   ]
  },
  {
   "cell_type": "code",
   "execution_count": 18,
   "id": "189d7b10",
   "metadata": {
    "execution": {
     "iopub.execute_input": "2023-10-25T10:42:08.099085Z",
     "iopub.status.busy": "2023-10-25T10:42:08.098274Z",
     "iopub.status.idle": "2023-10-25T10:42:08.342180Z",
     "shell.execute_reply": "2023-10-25T10:42:08.341094Z"
    },
    "papermill": {
     "duration": 0.253771,
     "end_time": "2023-10-25T10:42:08.344486",
     "exception": false,
     "start_time": "2023-10-25T10:42:08.090715",
     "status": "completed"
    },
    "tags": []
   },
   "outputs": [
    {
     "data": {
      "image/png": "[encoded data removed]",
      "text/plain": [
       "<Figure size 640x480 with 1 Axes>"
      ]
     },
     "metadata": {},
     "output_type": "display_data"
    }
   ],
   "source": [
    "m = 100\n",
    "x1 = 5 * np.random.rand(m, 1) - 2\n",
    "x2 = 0.7 * x1 ** 2 - 2 * x1 + 3 + np.random.randn(m, 1)\n",
    "\n",
    "plt.scatter(x1, x2)\n",
    "plt.show()"
   ]
  },
  {
   "cell_type": "code",
   "execution_count": 19,
   "id": "eeb4c6cf",
   "metadata": {
    "execution": {
     "iopub.execute_input": "2023-10-25T10:42:08.359549Z",
     "iopub.status.busy": "2023-10-25T10:42:08.359140Z",
     "iopub.status.idle": "2023-10-25T10:42:08.642344Z",
     "shell.execute_reply": "2023-10-25T10:42:08.641314Z"
    },
    "papermill": {
     "duration": 0.293288,
     "end_time": "2023-10-25T10:42:08.644505",
     "exception": false,
     "start_time": "2023-10-25T10:42:08.351217",
     "status": "completed"
    },
    "tags": []
   },
   "outputs": [
    {
     "data": {
      "image/png": "[encoded data removed]",
      "text/plain": [
       "<Figure size 1000x600 with 1 Axes>"
      ]
     },
     "metadata": {},
     "output_type": "display_data"
    }
   ],
   "source": [
    "from sklearn.pipeline import Pipeline\n",
    "from sklearn.preprocessing import PolynomialFeatures\n",
    "\n",
    "def get_preds_ridge(x1, x2, alpha):\n",
    "    model = Pipeline([\n",
    "        ('poly_feats', PolynomialFeatures(degree=16)),\n",
    "        ('ridge', Ridge(alpha=alpha))\n",
    "    ])\n",
    "    model.fit(x1, x2)\n",
    "    return model.predict(x1)\n",
    "\n",
    "alphas = [0, 20, 200]\n",
    "cs = ['r', 'g', 'b']\n",
    "\n",
    "plt.figure(figsize=(10, 6))\n",
    "plt.plot(x1, x2, 'b+', label='Datapoints')\n",
    "\n",
    "for alpha, c in zip(alphas, cs):\n",
    "    preds = get_preds_ridge(x1, x2, alpha)\n",
    "    # Plot\n",
    "    plt.plot(sorted(x1[:, 0]), preds[np.argsort(x1[:, 0])], c, label='Alpha: {}'.format(alpha))\n",
    "\n",
    "plt.legend()\n",
    "plt.show()"
   ]
  },
  {
   "cell_type": "code",
   "execution_count": 20,
   "id": "c856476c",
   "metadata": {
    "execution": {
     "iopub.execute_input": "2023-10-25T10:42:08.662164Z",
     "iopub.status.busy": "2023-10-25T10:42:08.661166Z",
     "iopub.status.idle": "2023-10-25T10:42:08.665493Z",
     "shell.execute_reply": "2023-10-25T10:42:08.664683Z"
    },
    "papermill": {
     "duration": 0.015528,
     "end_time": "2023-10-25T10:42:08.667580",
     "exception": false,
     "start_time": "2023-10-25T10:42:08.652052",
     "status": "completed"
    },
    "tags": []
   },
   "outputs": [],
   "source": [
    "#So when alpha taken 20 gives the best score"
   ]
  }
 ],
 "metadata": {
  "kernelspec": {
   "display_name": "Python 3",
   "language": "python",
   "name": "python3"
  },
  "language_info": {
   "codemirror_mode": {
    "name": "ipython",
    "version": 3
   },
   "file_extension": ".py",
   "mimetype": "text/x-python",
   "name": "python",
   "nbconvert_exporter": "python",
   "pygments_lexer": "ipython3",
   "version": "3.10.12"
  },
  "papermill": {
   "default_parameters": {},
   "duration": 6.47753,
   "end_time": "2023-10-25T10:42:09.195687",
   "environment_variables": {},
   "exception": null,
   "input_path": "__notebook__.ipynb",
   "output_path": "__notebook__.ipynb",
   "parameters": {},
   "start_time": "2023-10-25T10:42:02.718157",
   "version": "2.4.0"
  }
 },
 "nbformat": 4,
 "nbformat_minor": 5
}
